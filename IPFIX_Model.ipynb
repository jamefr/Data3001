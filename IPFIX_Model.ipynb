{
 "cells": [
  {
   "cell_type": "code",
   "execution_count": 2,
   "id": "f3bed3d6",
   "metadata": {},
   "outputs": [],
   "source": [
    "regressors_to_remove = [\"destinationMacAddress\", \"sourceMacAddress\", \"egressInterface\", \"ingressInterface\", \"initialTCPFlags\", \n",
    "                    \"reverseInitialTCPFlags\", \"reverseTcpUrgTotalCount\", \"reverseUnionTCPFlags\", \"silkAppLabel\", \n",
    "                    \"tcpSequenceNumber\", \"tcpUrgTotalCount\", \"unionTCPFlags\", \"vlanId\", \"sourceIPv4Address\", \n",
    "                    \"destinationIPv4Address\", \"reverseTcpSequenceNumber\", \"observationDomainId\", \"reverseStandardDeviationInterarrivalTime\",\n",
    "                    \"reverseStandardDeviationPayloadLength\", \"reverseSmallPacketCount\", \"reverseNonEmptyPacketCount\",\n",
    "                    \"reverseMaxPacketSize\", \"reverseLargePacketCount\", \"reverseFirstNonEmptyPacketSize\", \"reverseDataByteCount\",\n",
    "                    \"reverseBytesPerPacket\", \"reverseAverageInterarrivalTime\", \"collectorName\"]\n",
    "\n",
    "regressor_has_null = [\"protocolIdentifier\"]"
   ]
  },
  {
   "cell_type": "markdown",
   "id": "052d0a8a",
   "metadata": {},
   "source": [
    "This code will just read in the downloaded test dataset"
   ]
  },
  {
   "cell_type": "code",
   "execution_count": 158,
   "id": "cb80f132",
   "metadata": {},
   "outputs": [],
   "source": [
    "import pandas as pd\n",
    "df1 = pd.read_json('train_df_noGoogle.json', lines=True)\n",
    "df2 = pd.read_json('train_google.json', lines=True)\n",
    "train_df = pd.concat([df1,df2],ignore_index=True)\n",
    "test_df = pd.read_json('test_df.json', lines=True)"
   ]
  },
  {
   "cell_type": "markdown",
   "id": "14986a33",
   "metadata": {},
   "source": [
    "This code will individually read the raw json data and create a train response"
   ]
  },
  {
   "cell_type": "markdown",
   "id": "099185f2",
   "metadata": {},
   "source": [
    "Cleans the data for XGboost"
   ]
  },
  {
   "cell_type": "code",
   "execution_count": 166,
   "id": "6ffa63d3",
   "metadata": {},
   "outputs": [],
   "source": [
    "columns_to_remove = [\"flowStartMilliseconds\", \"flowEndMilliseconds\",'firstEightNonEmptyPacketDirections']\n",
    "for regressors in columns_to_remove:\n",
    "    if regressors in train_df.columns:\n",
    "        train_df = train_df.drop(columns=regressors)\n",
    "        test_df = test_df.drop(columns=regressors)\n"
   ]
  },
  {
   "cell_type": "code",
   "execution_count": 185,
   "id": "7953719a",
   "metadata": {},
   "outputs": [],
   "source": [
    "# Encoding the response to numeric values\n",
    "\n",
    "from sklearn.preprocessing import LabelEncoder\n",
    "\n",
    "le = LabelEncoder()\n",
    "train_df['response'] = le.fit_transform(train_df['response'])\n",
    "test_df['response'] = le.fit_transform(test_df['response'])"
   ]
  },
  {
   "cell_type": "code",
   "execution_count": 4,
   "id": "4dd142b2",
   "metadata": {},
   "outputs": [],
   "source": [
    "# Converting Variables into category\n",
    "columns_categorical = [\"flowAttributes\", \"protocolIdentifier\", \"ipClassOfService\", \"flowEndReason\",\n",
    "                      'reverseFlowAttributes']\n",
    "\n",
    "\n",
    "for regressors in columns_categorical:\n",
    "    train_df[regressors] = train_df[regressors].astype('category')\n",
    "    test_df[regressors] = test_df[regressors].astype('category')\n"
   ]
  },
  {
   "cell_type": "code",
   "execution_count": 5,
   "id": "a46440fa",
   "metadata": {},
   "outputs": [],
   "source": [
    "for col in columns_categorical:\n",
    "    train_df[col] = train_df[col].cat.codes\n",
    "    test_df[col] = test_df[col].cat.codes\n"
   ]
  },
  {
   "cell_type": "code",
   "execution_count": 6,
   "id": "dfbcf6ef",
   "metadata": {},
   "outputs": [
    {
     "name": "stdout",
     "output_type": "stream",
     "text": [
      "<class 'pandas.core.frame.DataFrame'>\n",
      "RangeIndex: 125000 entries, 0 to 124999\n",
      "Data columns (total 24 columns):\n",
      " #   Column                             Non-Null Count   Dtype  \n",
      "---  ------                             --------------   -----  \n",
      " 0   flowDurationMilliseconds           125000 non-null  float64\n",
      " 1   reverseFlowDeltaMilliseconds       125000 non-null  float64\n",
      " 2   protocolIdentifier                 125000 non-null  int8   \n",
      " 3   sourceTransportPort                125000 non-null  int64  \n",
      " 4   packetTotalCount                   125000 non-null  int64  \n",
      " 5   octetTotalCount                    125000 non-null  int64  \n",
      " 6   flowAttributes                     125000 non-null  int8   \n",
      " 7   destinationTransportPort           125000 non-null  int64  \n",
      " 8   reversePacketTotalCount            125000 non-null  int64  \n",
      " 9   reverseOctetTotalCount             125000 non-null  int64  \n",
      " 10  reverseFlowAttributes              125000 non-null  int8   \n",
      " 11  ipClassOfService                   125000 non-null  int8   \n",
      " 12  flowEndReason                      125000 non-null  int8   \n",
      " 13  smallPacketCount                   125000 non-null  int64  \n",
      " 14  nonEmptyPacketCount                125000 non-null  int64  \n",
      " 15  dataByteCount                      125000 non-null  int64  \n",
      " 16  averageInterarrivalTime            125000 non-null  int64  \n",
      " 17  firstNonEmptyPacketSize            125000 non-null  int64  \n",
      " 18  largePacketCount                   125000 non-null  int64  \n",
      " 19  maxPacketSize                      125000 non-null  int64  \n",
      " 20  standardDeviationPayloadLength     125000 non-null  int64  \n",
      " 21  standardDeviationInterarrivalTime  125000 non-null  int64  \n",
      " 22  bytesPerPacket                     125000 non-null  int64  \n",
      " 23  response                           125000 non-null  int32  \n",
      "dtypes: float64(2), int32(1), int64(16), int8(5)\n",
      "memory usage: 18.2 MB\n"
     ]
    }
   ],
   "source": [
    "train_df.info()"
   ]
  },
  {
   "cell_type": "markdown",
   "id": "ddced843",
   "metadata": {},
   "source": [
    "### XG Boost"
   ]
  },
  {
   "cell_type": "code",
   "execution_count": 7,
   "id": "937f4e2a",
   "metadata": {},
   "outputs": [
    {
     "name": "stdout",
     "output_type": "stream",
     "text": [
      "Accuracy: 0.4118\n"
     ]
    }
   ],
   "source": [
    "import xgboost as xgb\n",
    "from sklearn.metrics import accuracy_score\n",
    "from sklearn.model_selection import GridSearchCV\n",
    "\n",
    "response = ['response']\n",
    "predictors = [x for x in list(train_df.columns) if x not in response]\n",
    "\n",
    "X = train_df[predictors]\n",
    "y = train_df[response]\n",
    "X_test = test_df[predictors]\n",
    "y_test = test_df[response]\n",
    "#label = train_df['response']\n",
    "#dtrain = xgb.DMatrix(train_df, label=label, enable_categorical=True)\n",
    "# Instantiate an XGBClassifier\n",
    "model = xgb.XGBClassifier(objective ='multi:softprob', \n",
    "                          num_class = 19,\n",
    "                          colsample_bytree = 0.3, \n",
    "                          learning_rate = 0.1,\n",
    "                          max_depth = 10, \n",
    "                          alpha = 1, \n",
    "                          n_estimators = 50)\n",
    "\n",
    "# Train the model\n",
    "model.fit(X, y)\n",
    "\n",
    "# Predictions\n",
    "y_pred = model.predict(X_test)\n",
    "\n",
    "# Evaluate the model\n",
    "accuracy = accuracy_score(y_test, y_pred)\n",
    "print(\"Accuracy:\", accuracy)\n"
   ]
  },
  {
   "cell_type": "markdown",
   "id": "2b6e0c8f",
   "metadata": {},
   "source": [
    "### Exploring prediction errors"
   ]
  },
  {
   "cell_type": "code",
   "execution_count": 82,
   "id": "a9b58aeb",
   "metadata": {},
   "outputs": [],
   "source": [
    "import pandas as pd\n",
    "import numpy as np\n",
    "from sklearn.metrics import accuracy_score\n",
    "\n",
    "y_test_arr = np.ravel(y_test)\n",
    "# Step 2: Create a DataFrame with true labels and predicted labels\n",
    "results_df = pd.DataFrame({'True': y_test_arr, 'Predicted': y_pred})\n",
    "\n",
    "# Step 3: Compare the true and predicted labels to find mismatches\n",
    "results_df['Correct'] = results_df['True'] == results_df['Predicted']\n",
    "\n",
    "# Step 4: Extract indices of incorrectly classified instances\n",
    "incorrect_indices = results_df[results_df['Correct'] == False].index.tolist()\n",
    "\n",
    "# Now `incorrect_indices` holds the indices of the incorrectly classified instances\n",
    "#print(\"Indices of incorrectly classified instances:\", incorrect_indices)\n",
    "\n",
    "\n"
   ]
  },
  {
   "cell_type": "code",
   "execution_count": 9,
   "id": "6d1c5e8c",
   "metadata": {},
   "outputs": [
    {
     "name": "stdout",
     "output_type": "stream",
     "text": [
      "It should be response    0\n",
      "Name: 0, dtype: int32, I am getting 0\n"
     ]
    }
   ],
   "source": [
    "row = 0\n",
    "prediction_int = y_test.iloc[row]\n",
    "print(f'It should be {prediction_int}, I am getting {y_pred[row]}')"
   ]
  },
  {
   "cell_type": "code",
   "execution_count": 10,
   "id": "df675b60",
   "metadata": {},
   "outputs": [
    {
     "data": {
      "text/plain": [
       "array([[0.52821815, 0.00714703, 0.03455031, ..., 0.00629136, 0.01075714,\n",
       "        0.00702013],\n",
       "       [0.7807144 , 0.00256663, 0.00435964, ..., 0.00200704, 0.00305754,\n",
       "        0.00264425],\n",
       "       [0.91762847, 0.00104874, 0.00098997, ..., 0.00118892, 0.00112028,\n",
       "        0.00098989],\n",
       "       ...,\n",
       "       [0.02109229, 0.03403796, 0.01524978, ..., 0.04164699, 0.01014183,\n",
       "        0.03341097],\n",
       "       [0.02103613, 0.02710547, 0.01372556, ..., 0.04248632, 0.0093953 ,\n",
       "        0.04124414],\n",
       "       [0.01933529, 0.02646217, 0.01408833, ..., 0.04258097, 0.00934198,\n",
       "        0.03754492]], dtype=float32)"
      ]
     },
     "execution_count": 10,
     "metadata": {},
     "output_type": "execute_result"
    }
   ],
   "source": [
    "probabilities = model.predict_proba(X_test)\n",
    "probabilities"
   ]
  },
  {
   "cell_type": "code",
   "execution_count": 11,
   "id": "c74c888f",
   "metadata": {},
   "outputs": [
    {
     "data": {
      "text/plain": [
       "array([0.52821815, 0.00714703, 0.03455031, 0.00774228, 0.00679514,\n",
       "       0.20508993, 0.00740229, 0.00716077, 0.05794402, 0.00720267,\n",
       "       0.009235  , 0.00659496, 0.00622814, 0.0069524 , 0.00965795,\n",
       "       0.00919403, 0.00615403, 0.0070845 , 0.01066438, 0.00879017,\n",
       "       0.00732048, 0.0188028 , 0.00629136, 0.01075714, 0.00702013],\n",
       "      dtype=float32)"
      ]
     },
     "execution_count": 11,
     "metadata": {},
     "output_type": "execute_result"
    }
   ],
   "source": [
    "probabilities[row,:]"
   ]
  },
  {
   "cell_type": "code",
   "execution_count": 44,
   "id": "c21b5062",
   "metadata": {},
   "outputs": [],
   "source": [
    "## Hyper parameter tuning\n",
    "model = xgb.XGBClassifier(use_label_encoder=False)\n",
    "param_grid = {\n",
    "    'n_estimators': [50,100],\n",
    "    'learning_rate': [0.1,0.2],\n",
    "    'max_depth': [5,10],\n",
    "    'alpha': [1,2]\n",
    "}\n",
    "model = xgb.XGBClassifier(use_label_encoder=False)\n"
   ]
  },
  {
   "cell_type": "code",
   "execution_count": 45,
   "id": "f0834da9",
   "metadata": {},
   "outputs": [
    {
     "name": "stdout",
     "output_type": "stream",
     "text": [
      "Fitting 3 folds for each of 16 candidates, totalling 48 fits\n"
     ]
    },
    {
     "data": {
      "text/html": [
       "<style>#sk-container-id-10 {color: black;}#sk-container-id-10 pre{padding: 0;}#sk-container-id-10 div.sk-toggleable {background-color: white;}#sk-container-id-10 label.sk-toggleable__label {cursor: pointer;display: block;width: 100%;margin-bottom: 0;padding: 0.3em;box-sizing: border-box;text-align: center;}#sk-container-id-10 label.sk-toggleable__label-arrow:before {content: \"▸\";float: left;margin-right: 0.25em;color: #696969;}#sk-container-id-10 label.sk-toggleable__label-arrow:hover:before {color: black;}#sk-container-id-10 div.sk-estimator:hover label.sk-toggleable__label-arrow:before {color: black;}#sk-container-id-10 div.sk-toggleable__content {max-height: 0;max-width: 0;overflow: hidden;text-align: left;background-color: #f0f8ff;}#sk-container-id-10 div.sk-toggleable__content pre {margin: 0.2em;color: black;border-radius: 0.25em;background-color: #f0f8ff;}#sk-container-id-10 input.sk-toggleable__control:checked~div.sk-toggleable__content {max-height: 200px;max-width: 100%;overflow: auto;}#sk-container-id-10 input.sk-toggleable__control:checked~label.sk-toggleable__label-arrow:before {content: \"▾\";}#sk-container-id-10 div.sk-estimator input.sk-toggleable__control:checked~label.sk-toggleable__label {background-color: #d4ebff;}#sk-container-id-10 div.sk-label input.sk-toggleable__control:checked~label.sk-toggleable__label {background-color: #d4ebff;}#sk-container-id-10 input.sk-hidden--visually {border: 0;clip: rect(1px 1px 1px 1px);clip: rect(1px, 1px, 1px, 1px);height: 1px;margin: -1px;overflow: hidden;padding: 0;position: absolute;width: 1px;}#sk-container-id-10 div.sk-estimator {font-family: monospace;background-color: #f0f8ff;border: 1px dotted black;border-radius: 0.25em;box-sizing: border-box;margin-bottom: 0.5em;}#sk-container-id-10 div.sk-estimator:hover {background-color: #d4ebff;}#sk-container-id-10 div.sk-parallel-item::after {content: \"\";width: 100%;border-bottom: 1px solid gray;flex-grow: 1;}#sk-container-id-10 div.sk-label:hover label.sk-toggleable__label {background-color: #d4ebff;}#sk-container-id-10 div.sk-serial::before {content: \"\";position: absolute;border-left: 1px solid gray;box-sizing: border-box;top: 0;bottom: 0;left: 50%;z-index: 0;}#sk-container-id-10 div.sk-serial {display: flex;flex-direction: column;align-items: center;background-color: white;padding-right: 0.2em;padding-left: 0.2em;position: relative;}#sk-container-id-10 div.sk-item {position: relative;z-index: 1;}#sk-container-id-10 div.sk-parallel {display: flex;align-items: stretch;justify-content: center;background-color: white;position: relative;}#sk-container-id-10 div.sk-item::before, #sk-container-id-10 div.sk-parallel-item::before {content: \"\";position: absolute;border-left: 1px solid gray;box-sizing: border-box;top: 0;bottom: 0;left: 50%;z-index: -1;}#sk-container-id-10 div.sk-parallel-item {display: flex;flex-direction: column;z-index: 1;position: relative;background-color: white;}#sk-container-id-10 div.sk-parallel-item:first-child::after {align-self: flex-end;width: 50%;}#sk-container-id-10 div.sk-parallel-item:last-child::after {align-self: flex-start;width: 50%;}#sk-container-id-10 div.sk-parallel-item:only-child::after {width: 0;}#sk-container-id-10 div.sk-dashed-wrapped {border: 1px dashed gray;margin: 0 0.4em 0.5em 0.4em;box-sizing: border-box;padding-bottom: 0.4em;background-color: white;}#sk-container-id-10 div.sk-label label {font-family: monospace;font-weight: bold;display: inline-block;line-height: 1.2em;}#sk-container-id-10 div.sk-label-container {text-align: center;}#sk-container-id-10 div.sk-container {/* jupyter's `normalize.less` sets `[hidden] { display: none; }` but bootstrap.min.css set `[hidden] { display: none !important; }` so we also need the `!important` here to be able to override the default hidden behavior on the sphinx rendered scikit-learn.org. See: https://github.com/scikit-learn/scikit-learn/issues/21755 */display: inline-block !important;position: relative;}#sk-container-id-10 div.sk-text-repr-fallback {display: none;}</style><div id=\"sk-container-id-10\" class=\"sk-top-container\"><div class=\"sk-text-repr-fallback\"><pre>GridSearchCV(cv=3,\n",
       "             estimator=XGBClassifier(base_score=None, booster=None,\n",
       "                                     callbacks=None, colsample_bylevel=None,\n",
       "                                     colsample_bynode=None,\n",
       "                                     colsample_bytree=None, device=None,\n",
       "                                     early_stopping_rounds=None,\n",
       "                                     enable_categorical=False, eval_metric=None,\n",
       "                                     feature_types=None, gamma=None,\n",
       "                                     grow_policy=None, importance_type=None,\n",
       "                                     interaction_constraints=None,\n",
       "                                     learning_rate=None,...\n",
       "                                     max_cat_to_onehot=None,\n",
       "                                     max_delta_step=None, max_depth=None,\n",
       "                                     max_leaves=None, min_child_weight=None,\n",
       "                                     missing=nan, monotone_constraints=None,\n",
       "                                     multi_strategy=None, n_estimators=None,\n",
       "                                     n_jobs=None, num_parallel_tree=None,\n",
       "                                     random_state=None, ...),\n",
       "             n_jobs=-1,\n",
       "             param_grid={&#x27;alpha&#x27;: [1, 2], &#x27;learning_rate&#x27;: [0.1, 0.2],\n",
       "                         &#x27;max_depth&#x27;: [5, 10], &#x27;n_estimators&#x27;: [50, 100]},\n",
       "             scoring=&#x27;accuracy&#x27;, verbose=1)</pre><b>In a Jupyter environment, please rerun this cell to show the HTML representation or trust the notebook. <br />On GitHub, the HTML representation is unable to render, please try loading this page with nbviewer.org.</b></div><div class=\"sk-container\" hidden><div class=\"sk-item sk-dashed-wrapped\"><div class=\"sk-label-container\"><div class=\"sk-label sk-toggleable\"><input class=\"sk-toggleable__control sk-hidden--visually\" id=\"sk-estimator-id-26\" type=\"checkbox\" ><label for=\"sk-estimator-id-26\" class=\"sk-toggleable__label sk-toggleable__label-arrow\">GridSearchCV</label><div class=\"sk-toggleable__content\"><pre>GridSearchCV(cv=3,\n",
       "             estimator=XGBClassifier(base_score=None, booster=None,\n",
       "                                     callbacks=None, colsample_bylevel=None,\n",
       "                                     colsample_bynode=None,\n",
       "                                     colsample_bytree=None, device=None,\n",
       "                                     early_stopping_rounds=None,\n",
       "                                     enable_categorical=False, eval_metric=None,\n",
       "                                     feature_types=None, gamma=None,\n",
       "                                     grow_policy=None, importance_type=None,\n",
       "                                     interaction_constraints=None,\n",
       "                                     learning_rate=None,...\n",
       "                                     max_cat_to_onehot=None,\n",
       "                                     max_delta_step=None, max_depth=None,\n",
       "                                     max_leaves=None, min_child_weight=None,\n",
       "                                     missing=nan, monotone_constraints=None,\n",
       "                                     multi_strategy=None, n_estimators=None,\n",
       "                                     n_jobs=None, num_parallel_tree=None,\n",
       "                                     random_state=None, ...),\n",
       "             n_jobs=-1,\n",
       "             param_grid={&#x27;alpha&#x27;: [1, 2], &#x27;learning_rate&#x27;: [0.1, 0.2],\n",
       "                         &#x27;max_depth&#x27;: [5, 10], &#x27;n_estimators&#x27;: [50, 100]},\n",
       "             scoring=&#x27;accuracy&#x27;, verbose=1)</pre></div></div></div><div class=\"sk-parallel\"><div class=\"sk-parallel-item\"><div class=\"sk-item\"><div class=\"sk-label-container\"><div class=\"sk-label sk-toggleable\"><input class=\"sk-toggleable__control sk-hidden--visually\" id=\"sk-estimator-id-27\" type=\"checkbox\" ><label for=\"sk-estimator-id-27\" class=\"sk-toggleable__label sk-toggleable__label-arrow\">estimator: XGBClassifier</label><div class=\"sk-toggleable__content\"><pre>XGBClassifier(base_score=None, booster=None, callbacks=None,\n",
       "              colsample_bylevel=None, colsample_bynode=None,\n",
       "              colsample_bytree=None, device=None, early_stopping_rounds=None,\n",
       "              enable_categorical=False, eval_metric=None, feature_types=None,\n",
       "              gamma=None, grow_policy=None, importance_type=None,\n",
       "              interaction_constraints=None, learning_rate=None, max_bin=None,\n",
       "              max_cat_threshold=None, max_cat_to_onehot=None,\n",
       "              max_delta_step=None, max_depth=None, max_leaves=None,\n",
       "              min_child_weight=None, missing=nan, monotone_constraints=None,\n",
       "              multi_strategy=None, n_estimators=None, n_jobs=None,\n",
       "              num_parallel_tree=None, random_state=None, ...)</pre></div></div></div><div class=\"sk-serial\"><div class=\"sk-item\"><div class=\"sk-estimator sk-toggleable\"><input class=\"sk-toggleable__control sk-hidden--visually\" id=\"sk-estimator-id-28\" type=\"checkbox\" ><label for=\"sk-estimator-id-28\" class=\"sk-toggleable__label sk-toggleable__label-arrow\">XGBClassifier</label><div class=\"sk-toggleable__content\"><pre>XGBClassifier(base_score=None, booster=None, callbacks=None,\n",
       "              colsample_bylevel=None, colsample_bynode=None,\n",
       "              colsample_bytree=None, device=None, early_stopping_rounds=None,\n",
       "              enable_categorical=False, eval_metric=None, feature_types=None,\n",
       "              gamma=None, grow_policy=None, importance_type=None,\n",
       "              interaction_constraints=None, learning_rate=None, max_bin=None,\n",
       "              max_cat_threshold=None, max_cat_to_onehot=None,\n",
       "              max_delta_step=None, max_depth=None, max_leaves=None,\n",
       "              min_child_weight=None, missing=nan, monotone_constraints=None,\n",
       "              multi_strategy=None, n_estimators=None, n_jobs=None,\n",
       "              num_parallel_tree=None, random_state=None, ...)</pre></div></div></div></div></div></div></div></div></div></div>"
      ],
      "text/plain": [
       "GridSearchCV(cv=3,\n",
       "             estimator=XGBClassifier(base_score=None, booster=None,\n",
       "                                     callbacks=None, colsample_bylevel=None,\n",
       "                                     colsample_bynode=None,\n",
       "                                     colsample_bytree=None, device=None,\n",
       "                                     early_stopping_rounds=None,\n",
       "                                     enable_categorical=False, eval_metric=None,\n",
       "                                     feature_types=None, gamma=None,\n",
       "                                     grow_policy=None, importance_type=None,\n",
       "                                     interaction_constraints=None,\n",
       "                                     learning_rate=None,...\n",
       "                                     max_cat_to_onehot=None,\n",
       "                                     max_delta_step=None, max_depth=None,\n",
       "                                     max_leaves=None, min_child_weight=None,\n",
       "                                     missing=nan, monotone_constraints=None,\n",
       "                                     multi_strategy=None, n_estimators=None,\n",
       "                                     n_jobs=None, num_parallel_tree=None,\n",
       "                                     random_state=None, ...),\n",
       "             n_jobs=-1,\n",
       "             param_grid={'alpha': [1, 2], 'learning_rate': [0.1, 0.2],\n",
       "                         'max_depth': [5, 10], 'n_estimators': [50, 100]},\n",
       "             scoring='accuracy', verbose=1)"
      ]
     },
     "execution_count": 45,
     "metadata": {},
     "output_type": "execute_result"
    }
   ],
   "source": [
    "grid_search = GridSearchCV(model, param_grid, scoring='accuracy', cv=3, verbose=1, n_jobs=-1)\n",
    "grid_search.fit(X, y)"
   ]
  },
  {
   "cell_type": "code",
   "execution_count": 46,
   "id": "988e5769",
   "metadata": {},
   "outputs": [
    {
     "name": "stdout",
     "output_type": "stream",
     "text": [
      "Best hyperparameters: {'alpha': 2, 'learning_rate': 0.1, 'max_depth': 10, 'n_estimators': 50}\n",
      "Test accuracy: 0.4669473684210526\n"
     ]
    }
   ],
   "source": [
    "best_model = grid_search.best_estimator_\n",
    "y_pred = best_model.predict(X_test)\n",
    "print(\"Best hyperparameters:\", grid_search.best_params_)\n",
    "print(\"Test accuracy:\", accuracy_score(y_test, y_pred))"
   ]
  },
  {
   "cell_type": "code",
   "execution_count": 30,
   "id": "c79ea8b6",
   "metadata": {},
   "outputs": [
    {
     "name": "stdout",
     "output_type": "stream",
     "text": [
      "0 = amazon_echo_gen2\n",
      "1 = au_network_camera\n",
      "2 = au_wireless_adapter\n",
      "3 = bitfinder_awair_breathe_easy\n",
      "4 = candy_house_sesami_wi-fi_access_point\n",
      "5 = google_home_gen1\n",
      "6 = i-o_data_qwatch\n",
      "7 = irobot_roomba\n",
      "8 = jvc_kenwood_cu-hb1\n",
      "9 = jvc_kenwood_hdtv_ip_camera\n",
      "10 = line_clova_wave\n",
      "11 = link_japan_eremote\n",
      "12 = mouse_computer_room_hub\n",
      "13 = nature_remo\n",
      "14 = panasonic_doorphone\n",
      "15 = philips_hue_bridge\n",
      "16 = planex_camera_one_shot!\n",
      "17 = planex_smacam_outdoor\n",
      "18 = planex_smacam_pantilt\n",
      "19 = powerelectric_wi-fi_plug\n",
      "20 = qrio_hub\n",
      "21 = sony_bravia\n",
      "22 = sony_network_camera\n",
      "23 = sony_smart_speaker\n",
      "24 = xiaomi_mijia_led\n"
     ]
    }
   ],
   "source": [
    "import numpy as np\n",
    "conversion = np.arange(0,25)\n",
    "decoded_category = le.inverse_transform(conversion)\n",
    "for i in conversion:\n",
    "    print(f'{i} = {decoded_category[i]}')"
   ]
  },
  {
   "cell_type": "code",
   "execution_count": 83,
   "id": "7ac40de6",
   "metadata": {},
   "outputs": [],
   "source": [
    "tot = 0\n",
    "between = 1000\n",
    "i = 0\n",
    "#print(f\"Gradient Boosted Decision Tree Accuracy: {accuracy*100}%\\n \\nclass by class:\")\n",
    "while(between <= 25000):\n",
    "    unique, counts = np.unique(y_pred[between-1000:between], return_counts=True)\n",
    "    i_count = np.sum(y_pred[between-1000:between] == i)\n",
    "    tot = np.sum(y_pred[:] == i)\n",
    "    #tot += i_count\n",
    "    percentage = i_count\n",
    "    #print(f'{decoded_category[i]}, accuracy = {percentage}%')\n",
    "    #print(f'{i} = {decoded_category[i]}, we are accurate {percentage}% amount of times\\n{dict(zip(unique, counts))}')\n",
    "    between += 1000\n",
    "    i += 1"
   ]
  },
  {
   "cell_type": "markdown",
   "id": "83838cc2",
   "metadata": {},
   "source": [
    "### Threshold with standardising"
   ]
  },
  {
   "cell_type": "code",
   "execution_count": 201,
   "id": "d85a10ff",
   "metadata": {},
   "outputs": [],
   "source": [
    "### standardising the probabilities based on individual class means and std deviations\n",
    "import pandas as pd\n",
    "#probabilities = model.predict_proba(X_test)\n",
    "prob = pd.DataFrame(probabilities)\n",
    "mean_prob = prob.mean(axis=0)\n",
    "std_deviation = prob.std(axis=0)\n",
    "\n",
    "mean_prob = np.ravel(mean_prob)\n",
    "std_deviation = np.ravel(std_deviation)\n",
    "mean_reduced_prob = (probabilities - mean_prob) / std_deviation"
   ]
  },
  {
   "cell_type": "code",
   "execution_count": 211,
   "id": "c5586795",
   "metadata": {},
   "outputs": [],
   "source": [
    "z_score_50_percent = (0.9 - mean_prob) / std_deviation\n",
    "threshold = mean_reduced_prob > z_score_50_percent\n",
    "predictions = np.full((probabilities.shape[0],), -1)\n",
    "for i, instance in enumerate(threshold):\n",
    "    # Check if any probability meets the threshold\n",
    "    if any(instance):\n",
    "        # Get the index of the max probability above the threshold\n",
    "        predictions[i] = np.argmax(mean_reduced_prob[i])\n"
   ]
  },
  {
   "cell_type": "code",
   "execution_count": 212,
   "id": "40e730ed",
   "metadata": {},
   "outputs": [
    {
     "name": "stdout",
     "output_type": "stream",
     "text": [
      "dropped: 14339, total = 25000, percent = 57.355999999999995%\n"
     ]
    }
   ],
   "source": [
    "dropped = (predictions == -1).sum()\n",
    "total = len(predictions)\n",
    "print(f'dropped: {dropped}, total = {total}, percent = {dropped/total*100}%')"
   ]
  },
  {
   "cell_type": "code",
   "execution_count": 213,
   "id": "8ee80d59",
   "metadata": {},
   "outputs": [
    {
     "name": "stderr",
     "output_type": "stream",
     "text": [
      "C:\\Users\\Priyash Shah\\AppData\\Local\\Temp\\ipykernel_12704\\3339173291.py:9: SettingWithCopyWarning: \n",
      "A value is trying to be set on a copy of a slice from a DataFrame.\n",
      "Try using .loc[row_indexer,col_indexer] = value instead\n",
      "\n",
      "See the caveats in the documentation: https://pandas.pydata.org/pandas-docs/stable/user_guide/indexing.html#returning-a-view-versus-a-copy\n",
      "  prediction_cert['Correct'] = prediction_cert['True'] == prediction_cert['Predicted']\n"
     ]
    },
    {
     "data": {
      "text/plain": [
       "9945"
      ]
     },
     "execution_count": 213,
     "metadata": {},
     "output_type": "execute_result"
    }
   ],
   "source": [
    "\n",
    "\n",
    "y_test_arr = np.ravel(y_test)\n",
    "# Step 2: Create a DataFrame with true labels and predicted labels\n",
    "results_df = pd.DataFrame({'True': y_test_arr, 'Predicted': predictions})\n",
    "\n",
    "classified = results_df['Predicted'] != -1\n",
    "\n",
    "prediction_cert = results_df[classified]\n",
    "\n",
    "prediction_cert['Correct'] = prediction_cert['True'] == prediction_cert['Predicted']\n",
    "true_count = prediction_cert['Correct'].sum()\n",
    "true_count"
   ]
  },
  {
   "cell_type": "code",
   "execution_count": 214,
   "id": "987d05cd",
   "metadata": {},
   "outputs": [
    {
     "data": {
      "text/plain": [
       "(10661, 3)"
      ]
     },
     "execution_count": 214,
     "metadata": {},
     "output_type": "execute_result"
    }
   ],
   "source": [
    "prediction_cert.shape"
   ]
  },
  {
   "cell_type": "code",
   "execution_count": 215,
   "id": "ee9920cd",
   "metadata": {},
   "outputs": [
    {
     "data": {
      "text/plain": [
       "0.9328393208892224"
      ]
     },
     "execution_count": 215,
     "metadata": {},
     "output_type": "execute_result"
    }
   ],
   "source": [
    "9945/10661"
   ]
  },
  {
   "cell_type": "code",
   "execution_count": 79,
   "id": "2dacebce",
   "metadata": {},
   "outputs": [
    {
     "data": {
      "text/plain": [
       "0.9458341169832613"
      ]
     },
     "execution_count": 79,
     "metadata": {},
     "output_type": "execute_result"
    }
   ],
   "source": [
    "10058/10634"
   ]
  },
  {
   "cell_type": "markdown",
   "id": "7a0a2205",
   "metadata": {},
   "source": [
    "### Class by class accuracy"
   ]
  },
  {
   "cell_type": "code",
   "execution_count": 216,
   "id": "3eb01989",
   "metadata": {},
   "outputs": [
    {
     "data": {
      "text/plain": [
       "{'mouse_computer_room_hub': (991, 991),\n",
       " 'planex_camera_one_shot!': (984, 984),\n",
       " 'i-o_data_qwatch': (908, 913),\n",
       " 'sony_bravia': (876, 885),\n",
       " 'panasonic_doorphone': (849, 849),\n",
       " 'jvc_kenwood_cu-hb1': (809, 815),\n",
       " 'au_wireless_adapter': (715, 715),\n",
       " 'sony_smart_speaker': (710, 1027),\n",
       " 'amazon_echo_gen2': (638, 648),\n",
       " 'powerelectric_wi-fi_plug': (548, 564),\n",
       " 'line_clova_wave': (332, 335),\n",
       " 'jvc_kenwood_hdtv_ip_camera': (296, 483),\n",
       " 'qrio_hub': (246, 253),\n",
       " 'philips_hue_bridge': (223, 229),\n",
       " 'sony_network_camera': (148, 162),\n",
       " 'planex_smacam_pantilt': (146, 223),\n",
       " 'bitfinder_awair_breathe_easy': (143, 144),\n",
       " 'au_network_camera': (107, 109),\n",
       " 'planex_smacam_outdoor': (102, 115),\n",
       " 'candy_house_sesami_wi-fi_access_point': (48, 58),\n",
       " 'link_japan_eremote': (43, 43),\n",
       " 'irobot_roomba': (40, 52),\n",
       " 'xiaomi_mijia_led': (38, 48),\n",
       " 'nature_remo': (5, 16),\n",
       " 'failed': (0, 14339)}"
      ]
     },
     "execution_count": 216,
     "metadata": {},
     "output_type": "execute_result"
    }
   ],
   "source": [
    "import numpy as np\n",
    "conversion = np.arange(0,25)\n",
    "decoded_category = le.inverse_transform(conversion)\n",
    "y_test_arr = np.ravel(y_test)\n",
    "\n",
    "def classByClassAccuracy(predictions, actual):\n",
    "    ind = 0\n",
    "    classes = {}\n",
    "    for j in predictions:\n",
    "        if j == -1:\n",
    "            i = 'failed'\n",
    "        else: \n",
    "            i = decoded_category[j]\n",
    "        if i in classes.keys():\n",
    "            \n",
    "            if i == decoded_category[actual[ind]]:\n",
    "                classes[i][\"count\"] += 1\n",
    "            classes[i][\"total\"] += 1\n",
    "        else:\n",
    "            \n",
    "            if i == decoded_category[actual[ind]]:\n",
    "                classes[i] = {\"count\":1, \"total\":1}\n",
    "            else:\n",
    "                classes[i] = {\"count\":0, \"total\":1}\n",
    "        \n",
    "        ind += 1\n",
    " \n",
    "    results = {}\n",
    "    for k in classes.keys():\n",
    "        results[k] = (classes[k][\"count\"], classes[k][\"total\"])\n",
    " \n",
    "    return dict(sorted(results.items(), key=lambda x:x[1], reverse=True))\n",
    "class_acc = classByClassAccuracy(predictions, y_test_arr)\n",
    "class_acc"
   ]
  },
  {
   "cell_type": "code",
   "execution_count": 45,
   "id": "727ec680",
   "metadata": {},
   "outputs": [
    {
     "data": {
      "text/plain": [
       "25000"
      ]
     },
     "execution_count": 45,
     "metadata": {},
     "output_type": "execute_result"
    }
   ],
   "source": [
    "i = 0\n",
    "for j in predictions:\n",
    "    i += 1\n",
    "i"
   ]
  },
  {
   "cell_type": "code",
   "execution_count": 100,
   "id": "4e2d821a",
   "metadata": {},
   "outputs": [],
   "source": [
    "indexes = results_df[(results_df['True'] == 7) & (results_df['Predicted'] == 7)].index"
   ]
  },
  {
   "cell_type": "code",
   "execution_count": 101,
   "id": "b297b951",
   "metadata": {},
   "outputs": [
    {
     "name": "stdout",
     "output_type": "stream",
     "text": [
      "2019-09-07 12:51:48.031\n",
      "2019-09-02 06:08:59.446\n",
      "2019-09-02 11:40:05.339\n",
      "2019-08-31 11:15:39.779\n",
      "2019-09-03 23:07:29.435\n",
      "2019-09-01 00:17:20.183\n",
      "2019-09-04 14:02:07.719\n",
      "2019-08-29 21:13:26.322\n",
      "2019-08-30 01:48:02.161\n",
      "2019-09-04 04:31:08.267\n",
      "2019-09-03 17:36:24.884\n",
      "2019-08-27 10:30:53.749\n",
      "2019-09-09 10:14:39.841\n",
      "2019-09-04 14:32:17.947\n",
      "2019-09-01 04:11:23.226\n",
      "2019-09-07 16:22:26.917\n",
      "2019-08-31 20:46:59.208\n",
      "2019-09-09 08:14:17.083\n",
      "2019-09-08 18:17:48.702\n",
      "2019-08-28 17:57:45.094\n",
      "2019-09-02 19:41:09.674\n",
      "2019-08-29 07:52:55.163\n",
      "2019-08-29 18:43:01.795\n",
      "2019-09-06 04:53:27.422\n",
      "2019-09-01 21:43:48.857\n",
      "2019-08-31 12:15:45.736\n",
      "2019-09-04 00:07:33.457\n",
      "2019-09-02 15:10:40.380\n",
      "2019-09-07 13:51:54.720\n",
      "2019-09-02 18:10:55.205\n",
      "2019-08-31 11:45:42.304\n",
      "2019-09-04 13:01:56.016\n",
      "2019-08-31 15:16:03.881\n",
      "2019-09-05 22:29:33.512\n",
      "2019-09-04 02:00:48.039\n",
      "2019-09-04 12:01:55.224\n",
      "2019-08-29 06:52:47.345\n",
      "2019-09-07 20:53:15.242\n",
      "2019-08-30 20:21:32.612\n"
     ]
    }
   ],
   "source": [
    "for index in indexes:\n",
    "    print(test_df['flowStartMilliseconds'][index])"
   ]
  },
  {
   "cell_type": "code",
   "execution_count": 183,
   "id": "f0d92101",
   "metadata": {},
   "outputs": [
    {
     "data": {
      "text/plain": [
       "array([ 0,  0,  0, ..., 22,  0,  0])"
      ]
     },
     "execution_count": 183,
     "metadata": {},
     "output_type": "execute_result"
    }
   ],
   "source": [
    "predictions"
   ]
  },
  {
   "cell_type": "code",
   "execution_count": null,
   "id": "701d3eac",
   "metadata": {},
   "outputs": [],
   "source": []
  },
  {
   "cell_type": "code",
   "execution_count": null,
   "id": "d8a82149",
   "metadata": {},
   "outputs": [],
   "source": []
  },
  {
   "cell_type": "code",
   "execution_count": null,
   "id": "46e50923",
   "metadata": {},
   "outputs": [],
   "source": []
  },
  {
   "cell_type": "markdown",
   "id": "0ce57f87",
   "metadata": {},
   "source": [
    "### RANDOM FOREST"
   ]
  },
  {
   "cell_type": "code",
   "execution_count": 89,
   "id": "70e7d0e4",
   "metadata": {},
   "outputs": [
    {
     "data": {
      "text/html": [
       "<div>\n",
       "<style scoped>\n",
       "    .dataframe tbody tr th:only-of-type {\n",
       "        vertical-align: middle;\n",
       "    }\n",
       "\n",
       "    .dataframe tbody tr th {\n",
       "        vertical-align: top;\n",
       "    }\n",
       "\n",
       "    .dataframe thead th {\n",
       "        text-align: right;\n",
       "    }\n",
       "</style>\n",
       "<table border=\"1\" class=\"dataframe\">\n",
       "  <thead>\n",
       "    <tr style=\"text-align: right;\">\n",
       "      <th></th>\n",
       "      <th>True</th>\n",
       "      <th>Predicted</th>\n",
       "    </tr>\n",
       "  </thead>\n",
       "  <tbody>\n",
       "    <tr>\n",
       "      <th>0</th>\n",
       "      <td>0</td>\n",
       "      <td>0</td>\n",
       "    </tr>\n",
       "    <tr>\n",
       "      <th>1</th>\n",
       "      <td>0</td>\n",
       "      <td>0</td>\n",
       "    </tr>\n",
       "    <tr>\n",
       "      <th>2</th>\n",
       "      <td>0</td>\n",
       "      <td>0</td>\n",
       "    </tr>\n",
       "    <tr>\n",
       "      <th>3</th>\n",
       "      <td>0</td>\n",
       "      <td>0</td>\n",
       "    </tr>\n",
       "    <tr>\n",
       "      <th>4</th>\n",
       "      <td>0</td>\n",
       "      <td>0</td>\n",
       "    </tr>\n",
       "    <tr>\n",
       "      <th>...</th>\n",
       "      <td>...</td>\n",
       "      <td>...</td>\n",
       "    </tr>\n",
       "    <tr>\n",
       "      <th>24995</th>\n",
       "      <td>24</td>\n",
       "      <td>-1</td>\n",
       "    </tr>\n",
       "    <tr>\n",
       "      <th>24996</th>\n",
       "      <td>24</td>\n",
       "      <td>24</td>\n",
       "    </tr>\n",
       "    <tr>\n",
       "      <th>24997</th>\n",
       "      <td>24</td>\n",
       "      <td>-1</td>\n",
       "    </tr>\n",
       "    <tr>\n",
       "      <th>24998</th>\n",
       "      <td>24</td>\n",
       "      <td>-1</td>\n",
       "    </tr>\n",
       "    <tr>\n",
       "      <th>24999</th>\n",
       "      <td>24</td>\n",
       "      <td>-1</td>\n",
       "    </tr>\n",
       "  </tbody>\n",
       "</table>\n",
       "<p>25000 rows × 2 columns</p>\n",
       "</div>"
      ],
      "text/plain": [
       "       True  Predicted\n",
       "0         0          0\n",
       "1         0          0\n",
       "2         0          0\n",
       "3         0          0\n",
       "4         0          0\n",
       "...     ...        ...\n",
       "24995    24         -1\n",
       "24996    24         24\n",
       "24997    24         -1\n",
       "24998    24         -1\n",
       "24999    24         -1\n",
       "\n",
       "[25000 rows x 2 columns]"
      ]
     },
     "execution_count": 89,
     "metadata": {},
     "output_type": "execute_result"
    }
   ],
   "source": []
  },
  {
   "cell_type": "code",
   "execution_count": 159,
   "id": "5d5ae5be",
   "metadata": {},
   "outputs": [],
   "source": [
    "# Converting Variables into category\n",
    "columns_categorical = [\"flowAttributes\", \"protocolIdentifier\", \"ipClassOfService\", \"flowEndReason\",\n",
    "                      'reverseFlowAttributes']\n",
    "\n",
    "\n",
    "for regressors in columns_categorical:\n",
    "    train_df = pd.get_dummies(train_df, columns=[regressors], prefix=regressors)\n",
    "    test_df = pd.get_dummies(test_df, columns=[regressors], prefix=regressors)\n",
    "\n"
   ]
  },
  {
   "cell_type": "code",
   "execution_count": 160,
   "id": "06a42756",
   "metadata": {},
   "outputs": [],
   "source": [
    "# Automatically remove inconsistent columns/predictors\n",
    "\n",
    "for regressors in test_df.columns:\n",
    "    if regressors not in train_df.columns:\n",
    "         test_df = test_df.drop(columns=regressors)\n",
    "\n",
    "for regressors in train_df.columns:\n",
    "    if regressors not in test_df.columns:\n",
    "         train_df = train_df.drop(columns=regressors)"
   ]
  },
  {
   "cell_type": "code",
   "execution_count": 164,
   "id": "377f175e",
   "metadata": {},
   "outputs": [
    {
     "data": {
      "text/plain": [
       "42"
      ]
     },
     "execution_count": 164,
     "metadata": {},
     "output_type": "execute_result"
    }
   ],
   "source": [
    "len(test_df.columns)"
   ]
  },
  {
   "cell_type": "code",
   "execution_count": 163,
   "id": "7b6025a4",
   "metadata": {},
   "outputs": [
    {
     "data": {
      "text/plain": [
       "42"
      ]
     },
     "execution_count": 163,
     "metadata": {},
     "output_type": "execute_result"
    }
   ],
   "source": [
    "len(test_df.columns)"
   ]
  },
  {
   "cell_type": "code",
   "execution_count": 156,
   "id": "6dd5a620",
   "metadata": {},
   "outputs": [],
   "source": [
    "# Manually\n",
    "\n",
    "category = ['ipClassOfService_0xd0']\n",
    "for regressors in category:\n",
    "    if regressors in train_df.columns:\n",
    "        train_df = train_df.drop(columns=regressors)\n",
    "    if regressors in test_df.columns:\n",
    "        test_df = test_df.drop(columns=regressors)\n"
   ]
  },
  {
   "cell_type": "code",
   "execution_count": 167,
   "id": "d60e9ee4",
   "metadata": {},
   "outputs": [
    {
     "name": "stderr",
     "output_type": "stream",
     "text": [
      "C:\\Users\\Priyash Shah\\Downloads\\Anaconda\\Lib\\site-packages\\sklearn\\base.py:1151: DataConversionWarning: A column-vector y was passed when a 1d array was expected. Please change the shape of y to (n_samples,), for example using ravel().\n",
      "  return fit_method(estimator, *args, **kwargs)\n"
     ]
    }
   ],
   "source": [
    "from sklearn.ensemble import RandomForestClassifier\n",
    "\n",
    "response = ['response']\n",
    "predictors = [x for x in list(train_df.columns) if x not in response]\n",
    "\n",
    "X = train_df[predictors]\n",
    "y = train_df[response]\n",
    "X_test = test_df[predictors]\n",
    "y_test = test_df[response]\n",
    "forest1 = RandomForestClassifier(criterion='entropy', bootstrap=True, n_estimators = 400)\n",
    "forest1 = forest1.fit(X, y)\n",
    "res = forest1.predict(X_test)\n",
    "\n"
   ]
  },
  {
   "cell_type": "code",
   "execution_count": 57,
   "id": "ac4d4a3b",
   "metadata": {},
   "outputs": [
    {
     "data": {
      "text/plain": [
       "'amazon_echo_gen2'"
      ]
     },
     "execution_count": 57,
     "metadata": {},
     "output_type": "execute_result"
    }
   ],
   "source": [
    "y_test['response'][0]"
   ]
  },
  {
   "cell_type": "code",
   "execution_count": 60,
   "id": "c46aa939",
   "metadata": {},
   "outputs": [
    {
     "name": "stdout",
     "output_type": "stream",
     "text": [
      "sklearn: 0.44042105263157894\n",
      "me:      0.44042105263157894\n"
     ]
    }
   ],
   "source": [
    "from sklearn.metrics import accuracy_score\n",
    "accuracies = accuracy_score(y_test, res)\n",
    "count = 0\n",
    "total = 0\n",
    "for k in res:\n",
    "    if k == y_test['response'][total]:\n",
    "        count +=1\n",
    "    total += 1\n",
    "\n",
    "print(f\"sklearn: {accuracies}\\nme:      {count/total}\")"
   ]
  },
  {
   "cell_type": "code",
   "execution_count": 168,
   "id": "8779919f",
   "metadata": {},
   "outputs": [],
   "source": [
    "probabilities = forest1.predict_proba(X_test)"
   ]
  },
  {
   "cell_type": "code",
   "execution_count": 169,
   "id": "21f6f1f6",
   "metadata": {},
   "outputs": [
    {
     "data": {
      "text/plain": [
       "(25000, 25)"
      ]
     },
     "execution_count": 169,
     "metadata": {},
     "output_type": "execute_result"
    }
   ],
   "source": [
    "probabilities.shape"
   ]
  },
  {
   "cell_type": "code",
   "execution_count": 194,
   "id": "b9422593",
   "metadata": {},
   "outputs": [
    {
     "name": "stderr",
     "output_type": "stream",
     "text": [
      "C:\\Users\\Priyash Shah\\AppData\\Local\\Temp\\ipykernel_12704\\501418438.py:1: SettingWithCopyWarning: \n",
      "A value is trying to be set on a copy of a slice from a DataFrame.\n",
      "Try using .loc[row_indexer,col_indexer] = value instead\n",
      "\n",
      "See the caveats in the documentation: https://pandas.pydata.org/pandas-docs/stable/user_guide/indexing.html#returning-a-view-versus-a-copy\n",
      "  y_test['response'] = le.fit_transform(y_test['response'])\n"
     ]
    }
   ],
   "source": [
    "y_test['response'] = le.fit_transform(y_test['response'])"
   ]
  },
  {
   "cell_type": "code",
   "execution_count": 195,
   "id": "7f4c711d",
   "metadata": {},
   "outputs": [
    {
     "data": {
      "text/html": [
       "<div>\n",
       "<style scoped>\n",
       "    .dataframe tbody tr th:only-of-type {\n",
       "        vertical-align: middle;\n",
       "    }\n",
       "\n",
       "    .dataframe tbody tr th {\n",
       "        vertical-align: top;\n",
       "    }\n",
       "\n",
       "    .dataframe thead th {\n",
       "        text-align: right;\n",
       "    }\n",
       "</style>\n",
       "<table border=\"1\" class=\"dataframe\">\n",
       "  <thead>\n",
       "    <tr style=\"text-align: right;\">\n",
       "      <th></th>\n",
       "      <th>response</th>\n",
       "    </tr>\n",
       "  </thead>\n",
       "  <tbody>\n",
       "    <tr>\n",
       "      <th>0</th>\n",
       "      <td>0</td>\n",
       "    </tr>\n",
       "    <tr>\n",
       "      <th>1</th>\n",
       "      <td>0</td>\n",
       "    </tr>\n",
       "    <tr>\n",
       "      <th>2</th>\n",
       "      <td>0</td>\n",
       "    </tr>\n",
       "    <tr>\n",
       "      <th>3</th>\n",
       "      <td>0</td>\n",
       "    </tr>\n",
       "    <tr>\n",
       "      <th>4</th>\n",
       "      <td>0</td>\n",
       "    </tr>\n",
       "    <tr>\n",
       "      <th>...</th>\n",
       "      <td>...</td>\n",
       "    </tr>\n",
       "    <tr>\n",
       "      <th>24995</th>\n",
       "      <td>24</td>\n",
       "    </tr>\n",
       "    <tr>\n",
       "      <th>24996</th>\n",
       "      <td>24</td>\n",
       "    </tr>\n",
       "    <tr>\n",
       "      <th>24997</th>\n",
       "      <td>24</td>\n",
       "    </tr>\n",
       "    <tr>\n",
       "      <th>24998</th>\n",
       "      <td>24</td>\n",
       "    </tr>\n",
       "    <tr>\n",
       "      <th>24999</th>\n",
       "      <td>24</td>\n",
       "    </tr>\n",
       "  </tbody>\n",
       "</table>\n",
       "<p>25000 rows × 1 columns</p>\n",
       "</div>"
      ],
      "text/plain": [
       "       response\n",
       "0             0\n",
       "1             0\n",
       "2             0\n",
       "3             0\n",
       "4             0\n",
       "...         ...\n",
       "24995        24\n",
       "24996        24\n",
       "24997        24\n",
       "24998        24\n",
       "24999        24\n",
       "\n",
       "[25000 rows x 1 columns]"
      ]
     },
     "execution_count": 195,
     "metadata": {},
     "output_type": "execute_result"
    }
   ],
   "source": [
    "y_test"
   ]
  },
  {
   "cell_type": "code",
   "execution_count": null,
   "id": "863417d9",
   "metadata": {},
   "outputs": [],
   "source": []
  }
 ],
 "metadata": {
  "kernelspec": {
   "display_name": "Python 3 (ipykernel)",
   "language": "python",
   "name": "python3"
  },
  "language_info": {
   "codemirror_mode": {
    "name": "ipython",
    "version": 3
   },
   "file_extension": ".py",
   "mimetype": "text/x-python",
   "name": "python",
   "nbconvert_exporter": "python",
   "pygments_lexer": "ipython3",
   "version": "3.11.4"
  }
 },
 "nbformat": 4,
 "nbformat_minor": 5
}
