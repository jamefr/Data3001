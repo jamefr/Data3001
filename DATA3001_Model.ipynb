{
 "cells": [
  {
   "cell_type": "code",
   "execution_count": 1,
   "id": "f3bed3d6",
   "metadata": {},
   "outputs": [],
   "source": [
    "regressors_to_remove = [\"destinationMacAddress\", \"sourceMacAddress\", \"egressInterface\", \"ingressInterface\", \"initialTCPFlags\", \n",
    "                    \"reverseInitialTCPFlags\", \"reverseTcpUrgTotalCount\", \"reverseUnionTCPFlags\", \"silkAppLabel\", \n",
    "                    \"tcpSequenceNumber\", \"tcpUrgTotalCount\", \"unionTCPFlags\", \"vlanId\", \"sourceIPv4Address\", \n",
    "                    \"destinationIPv4Address\", \"reverseTcpSequenceNumber\", \"observationDomainId\", \"reverseStandardDeviationInterarrivalTime\",\n",
    "                    \"reverseStandardDeviationPayloadLength\", \"reverseSmallPacketCount\", \"reverseNonEmptyPacketCount\",\n",
    "                    \"reverseMaxPacketSize\", \"reverseLargePacketCount\", \"reverseFirstNonEmptyPacketSize\", \"reverseDataByteCount\",\n",
    "                    \"reverseBytesPerPacket\", \"reverseAverageInterarrivalTime\", \"collectorName\"]\n",
    "\n",
    "regressor_has_null = [\"protocolIdentifier\"]"
   ]
  },
  {
   "cell_type": "markdown",
   "id": "052d0a8a",
   "metadata": {},
   "source": [
    "This code will just read in the downloaded test dataset"
   ]
  },
  {
   "cell_type": "code",
   "execution_count": 2,
   "id": "cb80f132",
   "metadata": {},
   "outputs": [],
   "source": [
    "import pandas as pd\n",
    "df1 = pd.read_json('train_df_noGoogle.json', lines=True)\n",
    "df2 = pd.read_json('train_google.json', lines=True)\n",
    "train_df = pd.concat([df1,df2],ignore_index=True)\n"
   ]
  },
  {
   "cell_type": "code",
   "execution_count": 3,
   "id": "cfa97a86",
   "metadata": {
    "scrolled": true
   },
   "outputs": [],
   "source": [
    "test_df = pd.read_json(\"test_df.json\", lines=True)"
   ]
  },
  {
   "cell_type": "markdown",
   "id": "099185f2",
   "metadata": {},
   "source": [
    "Cleans the data for XGboost"
   ]
  },
  {
   "cell_type": "code",
   "execution_count": 4,
   "id": "6ffa63d3",
   "metadata": {},
   "outputs": [],
   "source": [
    "columns_to_remove = [\"flowStartMilliseconds\", \"flowEndMilliseconds\",'firstEightNonEmptyPacketDirections']\n",
    "for regressors in columns_to_remove:\n",
    "    if regressors in train_df.columns:\n",
    "        train_df = train_df.drop(columns=regressors)\n",
    "        test_df = test_df.drop(columns=regressors)\n"
   ]
  },
  {
   "cell_type": "code",
   "execution_count": 5,
   "id": "7953719a",
   "metadata": {},
   "outputs": [],
   "source": [
    "# Encoding the response to numeric values\n",
    "\n",
    "from sklearn.preprocessing import LabelEncoder\n",
    "\n",
    "le = LabelEncoder()\n",
    "train_df['response'] = le.fit_transform(train_df['response'])\n",
    "test_df['response'] = le.fit_transform(test_df['response'])"
   ]
  },
  {
   "cell_type": "code",
   "execution_count": 6,
   "id": "4dd142b2",
   "metadata": {},
   "outputs": [],
   "source": [
    "# Converting Variables into category\n",
    "columns_categorical = [\"flowAttributes\", \"protocolIdentifier\", \"ipClassOfService\", \"flowEndReason\",\n",
    "                      'reverseFlowAttributes']\n",
    "\n",
    "\n",
    "for regressors in columns_categorical:\n",
    "    train_df[regressors] = train_df[regressors].astype('category')\n",
    "    test_df[regressors] = test_df[regressors].astype('category')\n"
   ]
  },
  {
   "cell_type": "code",
   "execution_count": 7,
   "id": "a46440fa",
   "metadata": {},
   "outputs": [],
   "source": [
    "for col in columns_categorical:\n",
    "    train_df[col] = train_df[col].cat.codes\n",
    "    test_df[col] = test_df[col].cat.codes\n"
   ]
  },
  {
   "cell_type": "code",
   "execution_count": 8,
   "id": "dfbcf6ef",
   "metadata": {},
   "outputs": [
    {
     "name": "stdout",
     "output_type": "stream",
     "text": [
      "<class 'pandas.core.frame.DataFrame'>\n",
      "RangeIndex: 125000 entries, 0 to 124999\n",
      "Data columns (total 24 columns):\n",
      " #   Column                             Non-Null Count   Dtype  \n",
      "---  ------                             --------------   -----  \n",
      " 0   flowDurationMilliseconds           125000 non-null  float64\n",
      " 1   reverseFlowDeltaMilliseconds       125000 non-null  float64\n",
      " 2   protocolIdentifier                 125000 non-null  int8   \n",
      " 3   sourceTransportPort                125000 non-null  int64  \n",
      " 4   packetTotalCount                   125000 non-null  int64  \n",
      " 5   octetTotalCount                    125000 non-null  int64  \n",
      " 6   flowAttributes                     125000 non-null  int8   \n",
      " 7   destinationTransportPort           125000 non-null  int64  \n",
      " 8   reversePacketTotalCount            125000 non-null  int64  \n",
      " 9   reverseOctetTotalCount             125000 non-null  int64  \n",
      " 10  reverseFlowAttributes              125000 non-null  int8   \n",
      " 11  ipClassOfService                   125000 non-null  int8   \n",
      " 12  flowEndReason                      125000 non-null  int8   \n",
      " 13  smallPacketCount                   125000 non-null  int64  \n",
      " 14  nonEmptyPacketCount                125000 non-null  int64  \n",
      " 15  dataByteCount                      125000 non-null  int64  \n",
      " 16  averageInterarrivalTime            125000 non-null  int64  \n",
      " 17  firstNonEmptyPacketSize            125000 non-null  int64  \n",
      " 18  largePacketCount                   125000 non-null  int64  \n",
      " 19  maxPacketSize                      125000 non-null  int64  \n",
      " 20  standardDeviationPayloadLength     125000 non-null  int64  \n",
      " 21  standardDeviationInterarrivalTime  125000 non-null  int64  \n",
      " 22  bytesPerPacket                     125000 non-null  int64  \n",
      " 23  response                           125000 non-null  int64  \n",
      "dtypes: float64(2), int64(17), int8(5)\n",
      "memory usage: 18.7 MB\n"
     ]
    }
   ],
   "source": [
    "train_df.info()"
   ]
  },
  {
   "cell_type": "markdown",
   "id": "ddced843",
   "metadata": {},
   "source": [
    "### XG Boost"
   ]
  },
  {
   "cell_type": "code",
   "execution_count": 9,
   "id": "937f4e2a",
   "metadata": {},
   "outputs": [
    {
     "name": "stdout",
     "output_type": "stream",
     "text": [
      "Accuracy: 0.40736\n"
     ]
    }
   ],
   "source": [
    "import xgboost as xgb\n",
    "from sklearn.metrics import accuracy_score\n",
    "from sklearn.model_selection import GridSearchCV\n",
    "\n",
    "response = ['response']\n",
    "predictors = [x for x in list(train_df.columns) if x not in response]\n",
    "\n",
    "X = train_df[predictors]\n",
    "y = train_df[response]\n",
    "X_test = test_df[predictors]\n",
    "y_test = test_df[response]\n",
    "#label = train_df['response']\n",
    "#dtrain = xgb.DMatrix(train_df, label=label, enable_categorical=True)\n",
    "# Instantiate an XGBClassifier\n",
    "model = xgb.XGBClassifier(objective ='multi:softprob', \n",
    "                          num_class = 19,\n",
    "                          colsample_bytree = 0.3, \n",
    "                          learning_rate = 0.1,\n",
    "                          max_depth = 10, \n",
    "                          alpha = 1, \n",
    "                          n_estimators = 50)\n",
    "\n",
    "# Train the model\n",
    "model.fit(X, y)\n",
    "\n",
    "# Predictions\n",
    "y_pred = model.predict(X_test)\n",
    "\n",
    "# Evaluate the model\n",
    "accuracy = accuracy_score(y_test, y_pred)\n",
    "print(\"Accuracy:\", accuracy)\n"
   ]
  },
  {
   "cell_type": "code",
   "execution_count": 10,
   "id": "c21b5062",
   "metadata": {},
   "outputs": [],
   "source": [
    "## Hyper parameter tuning\n",
    "model = xgb.XGBClassifier(use_label_encoder=False)\n",
    "param_grid = {\n",
    "    'n_estimators': [50,100],\n",
    "    'learning_rate': [0.1,0.2],\n",
    "    'max_depth': [5,10],\n",
    "    'alpha': [1,2]\n",
    "}\n",
    "model = xgb.XGBClassifier(use_label_encoder=False)\n"
   ]
  },
  {
   "cell_type": "code",
   "execution_count": 11,
   "id": "f0834da9",
   "metadata": {},
   "outputs": [
    {
     "name": "stdout",
     "output_type": "stream",
     "text": [
      "Fitting 3 folds for each of 16 candidates, totalling 48 fits\n"
     ]
    },
    {
     "data": {
      "text/html": [
       "<style>#sk-container-id-1 {color: black;}#sk-container-id-1 pre{padding: 0;}#sk-container-id-1 div.sk-toggleable {background-color: white;}#sk-container-id-1 label.sk-toggleable__label {cursor: pointer;display: block;width: 100%;margin-bottom: 0;padding: 0.3em;box-sizing: border-box;text-align: center;}#sk-container-id-1 label.sk-toggleable__label-arrow:before {content: \"▸\";float: left;margin-right: 0.25em;color: #696969;}#sk-container-id-1 label.sk-toggleable__label-arrow:hover:before {color: black;}#sk-container-id-1 div.sk-estimator:hover label.sk-toggleable__label-arrow:before {color: black;}#sk-container-id-1 div.sk-toggleable__content {max-height: 0;max-width: 0;overflow: hidden;text-align: left;background-color: #f0f8ff;}#sk-container-id-1 div.sk-toggleable__content pre {margin: 0.2em;color: black;border-radius: 0.25em;background-color: #f0f8ff;}#sk-container-id-1 input.sk-toggleable__control:checked~div.sk-toggleable__content {max-height: 200px;max-width: 100%;overflow: auto;}#sk-container-id-1 input.sk-toggleable__control:checked~label.sk-toggleable__label-arrow:before {content: \"▾\";}#sk-container-id-1 div.sk-estimator input.sk-toggleable__control:checked~label.sk-toggleable__label {background-color: #d4ebff;}#sk-container-id-1 div.sk-label input.sk-toggleable__control:checked~label.sk-toggleable__label {background-color: #d4ebff;}#sk-container-id-1 input.sk-hidden--visually {border: 0;clip: rect(1px 1px 1px 1px);clip: rect(1px, 1px, 1px, 1px);height: 1px;margin: -1px;overflow: hidden;padding: 0;position: absolute;width: 1px;}#sk-container-id-1 div.sk-estimator {font-family: monospace;background-color: #f0f8ff;border: 1px dotted black;border-radius: 0.25em;box-sizing: border-box;margin-bottom: 0.5em;}#sk-container-id-1 div.sk-estimator:hover {background-color: #d4ebff;}#sk-container-id-1 div.sk-parallel-item::after {content: \"\";width: 100%;border-bottom: 1px solid gray;flex-grow: 1;}#sk-container-id-1 div.sk-label:hover label.sk-toggleable__label {background-color: #d4ebff;}#sk-container-id-1 div.sk-serial::before {content: \"\";position: absolute;border-left: 1px solid gray;box-sizing: border-box;top: 0;bottom: 0;left: 50%;z-index: 0;}#sk-container-id-1 div.sk-serial {display: flex;flex-direction: column;align-items: center;background-color: white;padding-right: 0.2em;padding-left: 0.2em;position: relative;}#sk-container-id-1 div.sk-item {position: relative;z-index: 1;}#sk-container-id-1 div.sk-parallel {display: flex;align-items: stretch;justify-content: center;background-color: white;position: relative;}#sk-container-id-1 div.sk-item::before, #sk-container-id-1 div.sk-parallel-item::before {content: \"\";position: absolute;border-left: 1px solid gray;box-sizing: border-box;top: 0;bottom: 0;left: 50%;z-index: -1;}#sk-container-id-1 div.sk-parallel-item {display: flex;flex-direction: column;z-index: 1;position: relative;background-color: white;}#sk-container-id-1 div.sk-parallel-item:first-child::after {align-self: flex-end;width: 50%;}#sk-container-id-1 div.sk-parallel-item:last-child::after {align-self: flex-start;width: 50%;}#sk-container-id-1 div.sk-parallel-item:only-child::after {width: 0;}#sk-container-id-1 div.sk-dashed-wrapped {border: 1px dashed gray;margin: 0 0.4em 0.5em 0.4em;box-sizing: border-box;padding-bottom: 0.4em;background-color: white;}#sk-container-id-1 div.sk-label label {font-family: monospace;font-weight: bold;display: inline-block;line-height: 1.2em;}#sk-container-id-1 div.sk-label-container {text-align: center;}#sk-container-id-1 div.sk-container {/* jupyter's `normalize.less` sets `[hidden] { display: none; }` but bootstrap.min.css set `[hidden] { display: none !important; }` so we also need the `!important` here to be able to override the default hidden behavior on the sphinx rendered scikit-learn.org. See: https://github.com/scikit-learn/scikit-learn/issues/21755 */display: inline-block !important;position: relative;}#sk-container-id-1 div.sk-text-repr-fallback {display: none;}</style><div id=\"sk-container-id-1\" class=\"sk-top-container\"><div class=\"sk-text-repr-fallback\"><pre>GridSearchCV(cv=3,\n",
       "             estimator=XGBClassifier(base_score=None, booster=None,\n",
       "                                     callbacks=None, colsample_bylevel=None,\n",
       "                                     colsample_bynode=None,\n",
       "                                     colsample_bytree=None, device=None,\n",
       "                                     early_stopping_rounds=None,\n",
       "                                     enable_categorical=False, eval_metric=None,\n",
       "                                     feature_types=None, gamma=None,\n",
       "                                     grow_policy=None, importance_type=None,\n",
       "                                     interaction_constraints=None,\n",
       "                                     learning_rate=None,...\n",
       "                                     max_cat_to_onehot=None,\n",
       "                                     max_delta_step=None, max_depth=None,\n",
       "                                     max_leaves=None, min_child_weight=None,\n",
       "                                     missing=nan, monotone_constraints=None,\n",
       "                                     multi_strategy=None, n_estimators=None,\n",
       "                                     n_jobs=None, num_parallel_tree=None,\n",
       "                                     random_state=None, ...),\n",
       "             n_jobs=-1,\n",
       "             param_grid={&#x27;alpha&#x27;: [1, 2], &#x27;learning_rate&#x27;: [0.1, 0.2],\n",
       "                         &#x27;max_depth&#x27;: [5, 10], &#x27;n_estimators&#x27;: [50, 100]},\n",
       "             scoring=&#x27;accuracy&#x27;, verbose=1)</pre><b>In a Jupyter environment, please rerun this cell to show the HTML representation or trust the notebook. <br />On GitHub, the HTML representation is unable to render, please try loading this page with nbviewer.org.</b></div><div class=\"sk-container\" hidden><div class=\"sk-item sk-dashed-wrapped\"><div class=\"sk-label-container\"><div class=\"sk-label sk-toggleable\"><input class=\"sk-toggleable__control sk-hidden--visually\" id=\"sk-estimator-id-1\" type=\"checkbox\" ><label for=\"sk-estimator-id-1\" class=\"sk-toggleable__label sk-toggleable__label-arrow\">GridSearchCV</label><div class=\"sk-toggleable__content\"><pre>GridSearchCV(cv=3,\n",
       "             estimator=XGBClassifier(base_score=None, booster=None,\n",
       "                                     callbacks=None, colsample_bylevel=None,\n",
       "                                     colsample_bynode=None,\n",
       "                                     colsample_bytree=None, device=None,\n",
       "                                     early_stopping_rounds=None,\n",
       "                                     enable_categorical=False, eval_metric=None,\n",
       "                                     feature_types=None, gamma=None,\n",
       "                                     grow_policy=None, importance_type=None,\n",
       "                                     interaction_constraints=None,\n",
       "                                     learning_rate=None,...\n",
       "                                     max_cat_to_onehot=None,\n",
       "                                     max_delta_step=None, max_depth=None,\n",
       "                                     max_leaves=None, min_child_weight=None,\n",
       "                                     missing=nan, monotone_constraints=None,\n",
       "                                     multi_strategy=None, n_estimators=None,\n",
       "                                     n_jobs=None, num_parallel_tree=None,\n",
       "                                     random_state=None, ...),\n",
       "             n_jobs=-1,\n",
       "             param_grid={&#x27;alpha&#x27;: [1, 2], &#x27;learning_rate&#x27;: [0.1, 0.2],\n",
       "                         &#x27;max_depth&#x27;: [5, 10], &#x27;n_estimators&#x27;: [50, 100]},\n",
       "             scoring=&#x27;accuracy&#x27;, verbose=1)</pre></div></div></div><div class=\"sk-parallel\"><div class=\"sk-parallel-item\"><div class=\"sk-item\"><div class=\"sk-label-container\"><div class=\"sk-label sk-toggleable\"><input class=\"sk-toggleable__control sk-hidden--visually\" id=\"sk-estimator-id-2\" type=\"checkbox\" ><label for=\"sk-estimator-id-2\" class=\"sk-toggleable__label sk-toggleable__label-arrow\">estimator: XGBClassifier</label><div class=\"sk-toggleable__content\"><pre>XGBClassifier(base_score=None, booster=None, callbacks=None,\n",
       "              colsample_bylevel=None, colsample_bynode=None,\n",
       "              colsample_bytree=None, device=None, early_stopping_rounds=None,\n",
       "              enable_categorical=False, eval_metric=None, feature_types=None,\n",
       "              gamma=None, grow_policy=None, importance_type=None,\n",
       "              interaction_constraints=None, learning_rate=None, max_bin=None,\n",
       "              max_cat_threshold=None, max_cat_to_onehot=None,\n",
       "              max_delta_step=None, max_depth=None, max_leaves=None,\n",
       "              min_child_weight=None, missing=nan, monotone_constraints=None,\n",
       "              multi_strategy=None, n_estimators=None, n_jobs=None,\n",
       "              num_parallel_tree=None, random_state=None, ...)</pre></div></div></div><div class=\"sk-serial\"><div class=\"sk-item\"><div class=\"sk-estimator sk-toggleable\"><input class=\"sk-toggleable__control sk-hidden--visually\" id=\"sk-estimator-id-3\" type=\"checkbox\" ><label for=\"sk-estimator-id-3\" class=\"sk-toggleable__label sk-toggleable__label-arrow\">XGBClassifier</label><div class=\"sk-toggleable__content\"><pre>XGBClassifier(base_score=None, booster=None, callbacks=None,\n",
       "              colsample_bylevel=None, colsample_bynode=None,\n",
       "              colsample_bytree=None, device=None, early_stopping_rounds=None,\n",
       "              enable_categorical=False, eval_metric=None, feature_types=None,\n",
       "              gamma=None, grow_policy=None, importance_type=None,\n",
       "              interaction_constraints=None, learning_rate=None, max_bin=None,\n",
       "              max_cat_threshold=None, max_cat_to_onehot=None,\n",
       "              max_delta_step=None, max_depth=None, max_leaves=None,\n",
       "              min_child_weight=None, missing=nan, monotone_constraints=None,\n",
       "              multi_strategy=None, n_estimators=None, n_jobs=None,\n",
       "              num_parallel_tree=None, random_state=None, ...)</pre></div></div></div></div></div></div></div></div></div></div>"
      ],
      "text/plain": [
       "GridSearchCV(cv=3,\n",
       "             estimator=XGBClassifier(base_score=None, booster=None,\n",
       "                                     callbacks=None, colsample_bylevel=None,\n",
       "                                     colsample_bynode=None,\n",
       "                                     colsample_bytree=None, device=None,\n",
       "                                     early_stopping_rounds=None,\n",
       "                                     enable_categorical=False, eval_metric=None,\n",
       "                                     feature_types=None, gamma=None,\n",
       "                                     grow_policy=None, importance_type=None,\n",
       "                                     interaction_constraints=None,\n",
       "                                     learning_rate=None,...\n",
       "                                     max_cat_to_onehot=None,\n",
       "                                     max_delta_step=None, max_depth=None,\n",
       "                                     max_leaves=None, min_child_weight=None,\n",
       "                                     missing=nan, monotone_constraints=None,\n",
       "                                     multi_strategy=None, n_estimators=None,\n",
       "                                     n_jobs=None, num_parallel_tree=None,\n",
       "                                     random_state=None, ...),\n",
       "             n_jobs=-1,\n",
       "             param_grid={'alpha': [1, 2], 'learning_rate': [0.1, 0.2],\n",
       "                         'max_depth': [5, 10], 'n_estimators': [50, 100]},\n",
       "             scoring='accuracy', verbose=1)"
      ]
     },
     "execution_count": 11,
     "metadata": {},
     "output_type": "execute_result"
    }
   ],
   "source": [
    "grid_search = GridSearchCV(model, param_grid, scoring='accuracy', cv=3, verbose=1, n_jobs=-1)\n",
    "grid_search.fit(X, y)"
   ]
  },
  {
   "cell_type": "code",
   "execution_count": 12,
   "id": "988e5769",
   "metadata": {},
   "outputs": [
    {
     "name": "stdout",
     "output_type": "stream",
     "text": [
      "Best hyperparameters: {'alpha': 2, 'learning_rate': 0.1, 'max_depth': 10, 'n_estimators': 50}\n",
      "Test accuracy: 0.0816\n"
     ]
    }
   ],
   "source": [
    "best_model = grid_search.best_estimator_\n",
    "y_pred = best_model.predict(X_test)\n",
    "print(\"Best hyperparameters:\", grid_search.best_params_)\n",
    "print(\"Test accuracy:\", accuracy_score(y_test, y_pred))"
   ]
  },
  {
   "cell_type": "code",
   "execution_count": 13,
   "id": "c79ea8b6",
   "metadata": {},
   "outputs": [
    {
     "name": "stdout",
     "output_type": "stream",
     "text": [
      "0 = amazon_echo_gen2\n",
      "1 = au_network_camera\n",
      "2 = au_wireless_adapter\n",
      "3 = bitfinder_awair_breathe_easy\n",
      "4 = candy_house_sesami_wi-fi_access_point\n",
      "5 = google_home_gen1\n",
      "6 = i-o_data_qwatch\n",
      "7 = irobot_roomba\n",
      "8 = jvc_kenwood_cu-hb1\n",
      "9 = jvc_kenwood_hdtv_ip_camera\n",
      "10 = line_clova_wave\n",
      "11 = link_japan_eremote\n",
      "12 = mouse_computer_room_hub\n",
      "13 = nature_remo\n",
      "14 = panasonic_doorphone\n",
      "15 = philips_hue_bridge\n",
      "16 = planex_camera_one_shot!\n",
      "17 = planex_smacam_outdoor\n",
      "18 = planex_smacam_pantilt\n",
      "19 = powerelectric_wi-fi_plug\n",
      "20 = qrio_hub\n",
      "21 = sony_bravia\n",
      "22 = sony_network_camera\n",
      "23 = sony_smart_speaker\n",
      "24 = xiaomi_mijia_led\n"
     ]
    }
   ],
   "source": [
    "import numpy as np\n",
    "conversion = np.arange(0,25)\n",
    "decoded_category = le.inverse_transform(conversion)\n",
    "for i in conversion:\n",
    "    print(f'{i} = {decoded_category[i]}')"
   ]
  },
  {
   "cell_type": "code",
   "execution_count": 14,
   "id": "7ac40de6",
   "metadata": {},
   "outputs": [
    {
     "name": "stdout",
     "output_type": "stream",
     "text": [
      "Gradient Boosted Decision Tree Accuracy: 40.736%\n",
      " \n",
      "class by class:\n",
      "amazon_echo_gen2, precison = 0%\n",
      "au_network_camera, precison = 0%\n",
      "au_wireless_adapter, precison = 0%\n",
      "bitfinder_awair_breathe_easy, precison = 0%\n",
      "candy_house_sesami_wi-fi_access_point, precison = 0%\n",
      "google_home_gen1, precison = 1000%\n",
      "i-o_data_qwatch, precison = 0%\n",
      "irobot_roomba, precison = 0%\n",
      "jvc_kenwood_cu-hb1, precison = 0%\n",
      "jvc_kenwood_hdtv_ip_camera, precison = 5%\n",
      "line_clova_wave, precison = 0%\n",
      "link_japan_eremote, precison = 0%\n",
      "mouse_computer_room_hub, precison = 944%\n",
      "nature_remo, precison = 0%\n",
      "panasonic_doorphone, precison = 0%\n",
      "philips_hue_bridge, precison = 0%\n",
      "planex_camera_one_shot!, precison = 0%\n",
      "planex_smacam_outdoor, precison = 0%\n",
      "planex_smacam_pantilt, precison = 91%\n",
      "powerelectric_wi-fi_plug, precison = 0%\n",
      "qrio_hub, precison = 0%\n",
      "sony_bravia, precison = 0%\n",
      "sony_network_camera, precison = 0%\n",
      "sony_smart_speaker, precison = 0%\n",
      "xiaomi_mijia_led, precison = 0%\n"
     ]
    }
   ],
   "source": [
    "import numpy as np\n",
    "tot = 0\n",
    "between = 1000\n",
    "i = 0\n",
    "print(f\"Gradient Boosted Decision Tree Accuracy: {accuracy*100}%\\n \\nclass by class:\")\n",
    "while(between <= 25000):\n",
    "    unique, counts = np.unique(y_pred[between-1000:between], return_counts=True)\n",
    "    i_count = np.sum(y_pred[between-1000:between] == i)\n",
    "    tot += i_count\n",
    "    percentage = i_count\n",
    "    print(f'{decoded_category[i]}, precison = {percentage}%')\n",
    "    #print(f'{i} = {decoded_category[i]}, we are accurate {percentage}% amount of times\\n{dict(zip(unique, counts))}')\n",
    "    between += 1000\n",
    "    i += 1"
   ]
  },
  {
   "cell_type": "code",
   "execution_count": 15,
   "id": "47b73dd8",
   "metadata": {},
   "outputs": [
    {
     "data": {
      "text/plain": [
       "0.0816"
      ]
     },
     "execution_count": 15,
     "metadata": {},
     "output_type": "execute_result"
    }
   ],
   "source": [
    "tot/25000"
   ]
  },
  {
   "cell_type": "code",
   "execution_count": 16,
   "id": "3eb01989",
   "metadata": {},
   "outputs": [
    {
     "data": {
      "text/plain": [
       "{12: 0.9989417989417989,\n",
       " 9: 0.7142857142857143,\n",
       " 18: 0.5416666666666666,\n",
       " 5: 0.04511006856730422,\n",
       " 7: 0.0,\n",
       " 13: 0.0,\n",
       " 4: 0.0,\n",
       " 22: 0.0,\n",
       " 24: 0.0,\n",
       " 19: 0.0,\n",
       " 1: 0.0,\n",
       " 0: 0.0,\n",
       " 10: 0.0,\n",
       " 23: 0.0,\n",
       " 17: 0.0,\n",
       " 20: 0.0}"
      ]
     },
     "execution_count": 16,
     "metadata": {},
     "output_type": "execute_result"
    }
   ],
   "source": [
    "import numpy as np\n",
    "y_test_arr = np.ravel(y_test)\n",
    "\n",
    "def classByClassAccuracy(predictions, actual):\n",
    "    ind = 0\n",
    "    classes = {}\n",
    "    for i in predictions:\n",
    "        if i in classes.keys():\n",
    "            if i == actual[ind]:\n",
    "                classes[i][\"count\"] += 1\n",
    "            classes[i][\"total\"] += 1\n",
    "        else:\n",
    "            if i == actual[ind]:\n",
    "                classes[i] = {\"count\":1, \"total\":1}\n",
    "            else:\n",
    "                classes[i] = {\"count\":0, \"total\":1}\n",
    "        \n",
    "        ind += 1\n",
    " \n",
    "    results = {}\n",
    "    for k in classes.keys():\n",
    "        results[k] = classes[k][\"count\"] / classes[k][\"total\"]\n",
    " \n",
    "    return dict(sorted(results.items(), key=lambda x:x[1], reverse=True))\n",
    "class_acc = classByClassAccuracy(y_pred, y_test_arr)\n",
    "class_acc"
   ]
  },
  {
   "cell_type": "markdown",
   "id": "0ce57f87",
   "metadata": {},
   "source": [
    "### RANDOM FOREST"
   ]
  },
  {
   "cell_type": "code",
   "execution_count": 17,
   "id": "5d5ae5be",
   "metadata": {},
   "outputs": [],
   "source": [
    "# Converting Variables into category\n",
    "columns_categorical = [\"flowAttributes\", \"protocolIdentifier\", \"ipClassOfService\", \"flowEndReason\",\n",
    "                      'reverseFlowAttributes']\n",
    "\n",
    "\n",
    "for regressors in columns_categorical:\n",
    "    train_df = pd.get_dummies(train_df, columns=[regressors], prefix=regressors)\n",
    "    test_df = pd.get_dummies(test_df, columns=[regressors], prefix=regressors)\n",
    "\n"
   ]
  },
  {
   "cell_type": "code",
   "execution_count": 18,
   "id": "06a42756",
   "metadata": {},
   "outputs": [],
   "source": [
    "# Automatically remove inconsistent columns/predictors\n",
    "\n",
    "for regressors in test_df.columns:\n",
    "    if regressors not in train_df.columns:\n",
    "         test_df = test_df.drop(columns=regressors)"
   ]
  },
  {
   "cell_type": "code",
   "execution_count": 19,
   "id": "6dd5a620",
   "metadata": {},
   "outputs": [],
   "source": [
    "# Manually\n",
    "\n",
    "category = ['ipClassOfService_0xd0']\n",
    "for regressors in category:\n",
    "    if regressors in train_df.columns:\n",
    "        train_df = train_df.drop(columns=regressors)\n",
    "    if regressors in test_df.columns:\n",
    "        test_df = test_df.drop(columns=regressors)\n"
   ]
  },
  {
   "cell_type": "code",
   "execution_count": 20,
   "id": "d60e9ee4",
   "metadata": {},
   "outputs": [
    {
     "name": "stdout",
     "output_type": "stream",
     "text": [
      "Fitting 3 folds for each of 4 candidates, totalling 12 fits\n"
     ]
    }
   ],
   "source": [
    "from sklearn.ensemble import RandomForestClassifier\n",
    "from sklearn.model_selection import GridSearchCV\n",
    "\n",
    "param_grid2 = [{\"n_estimators\" : [200,400]}, {\"class_weight\" : [\"balanced_subsample\", \"balanced\"]}]\n",
    "\n",
    "response = ['response']\n",
    "predictors = [x for x in list(train_df.columns) if x not in response]\n",
    "\n",
    "predictors.remove('flowAttributes_5')\n",
    "predictors.remove('flowAttributes_6')\n",
    "predictors.remove('ipClassOfService_4')\n",
    "\n",
    "\n",
    "X = train_df[predictors]\n",
    "y = np.ravel(train_df[response])\n",
    "X_test = test_df[predictors]\n",
    "y_test = np.ravel(test_df[response])\n",
    "forest1 = RandomForestClassifier(criterion='entropy', bootstrap=True)\n",
    "\n",
    "forestSearch = GridSearchCV(forest1, param_grid=param_grid2, scoring='accuracy', cv=3, verbose=1, n_jobs=-1)\n",
    "forestFit = forestSearch.fit(X,y)\n",
    "best_forest = forestFit.best_estimator_\n",
    "\n",
    "\n",
    "# classByClassAccuracy(res, y_test)\n"
   ]
  },
  {
   "cell_type": "code",
   "execution_count": 37,
   "id": "ac4d4a3b",
   "metadata": {},
   "outputs": [
    {
     "name": "stdout",
     "output_type": "stream",
     "text": [
      "(16, 1.0)\n",
      "(12, 0.9979879275653923)\n",
      "(6, 0.9869976359338062)\n",
      "(21, 0.9840490797546012)\n",
      "(14, 0.968978102189781)\n",
      "(2, 0.9677852348993289)\n",
      "(0, 0.9331683168316832)\n",
      "(15, 0.7794871794871795)\n",
      "(3, 0.6827586206896552)\n",
      "(18, 0.668918918918919)\n",
      "(19, 0.6688311688311688)\n",
      "(20, 0.6437994722955145)\n",
      "(10, 0.5865384615384616)\n",
      "(9, 0.5760869565217391)\n",
      "(23, 0.5357142857142857)\n",
      "(22, 0.48514851485148514)\n",
      "(11, 0.45454545454545453)\n",
      "(17, 0.25675675675675674)\n",
      "(7, 0.2182741116751269)\n",
      "(4, 0.20675105485232068)\n",
      "(24, 0.2033898305084746)\n",
      "(8, 0.14285714285714285)\n",
      "(5, 0.062275839582654056)\n",
      "(1, 0.05128205128205128)\n",
      "(13, 0.01744186046511628)\n",
      "(-1, 0.0)\n"
     ]
    }
   ],
   "source": [
    "res = best_forest.predict_proba(X_test)\n",
    "guesses = best_forest.predict(X_test)\n",
    "# probabilities = pd.DataFrame(res)\n",
    "# means = probabilities.mean(axis=0)\n",
    "\n",
    "threshold_met = res > 0.50\n",
    "\n",
    "predictions = np.full((res.shape[0],), -1)\n",
    "\n",
    "for i, instance in enumerate(threshold_met):\n",
    "\n",
    "    if any(instance):\n",
    "        predictions[i] = np.argmax(res[i])\n",
    "\n",
    "accuracies = classByClassAccuracy(predictions, y_test)\n",
    "for oldmate in accuracies.items():\n",
    "    print(oldmate)"
   ]
  },
  {
   "cell_type": "code",
   "execution_count": 31,
   "id": "c46aa939",
   "metadata": {},
   "outputs": [
    {
     "name": "stdout",
     "output_type": "stream",
     "text": [
      "sklearn: 0.31164\n"
     ]
    }
   ],
   "source": [
    "from sklearn.metrics import accuracy_score\n",
    "accuracies = accuracy_score(y_test, guesses)\n",
    "\n",
    "print(f\"sklearn: {accuracies}\")"
   ]
  },
  {
   "cell_type": "code",
   "execution_count": null,
   "id": "8779919f",
   "metadata": {},
   "outputs": [],
   "source": []
  }
 ],
 "metadata": {
  "kernelspec": {
   "display_name": "Python 3 (ipykernel)",
   "language": "python",
   "name": "python3"
  },
  "language_info": {
   "codemirror_mode": {
    "name": "ipython",
    "version": 3
   },
   "file_extension": ".py",
   "mimetype": "text/x-python",
   "name": "python",
   "nbconvert_exporter": "python",
   "pygments_lexer": "ipython3",
   "version": "3.9.12"
  }
 },
 "nbformat": 4,
 "nbformat_minor": 5
}
